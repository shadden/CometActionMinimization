{
 "cells": [
  {
   "cell_type": "code",
   "execution_count": 1,
   "id": "280275d8",
   "metadata": {},
   "outputs": [],
   "source": [
    "import rebound as rb\n",
    "import numpy as np"
   ]
  },
  {
   "cell_type": "code",
   "execution_count": 2,
   "id": "c2179ea9",
   "metadata": {},
   "outputs": [],
   "source": [
    "from celmech.nbody_simulation_utilities import set_time_step, get_simarchive_integration_results"
   ]
  },
  {
   "cell_type": "code",
   "execution_count": 3,
   "id": "33c1e902",
   "metadata": {},
   "outputs": [],
   "source": [
    "sim = rb.Simulation()\n",
    "sim.units = ('years','AU','Msun')\n",
    "sim.add(m=1)\n",
    "sim.add(m=5.15e-5,a = 30) # Neptune\n",
    "a = 200. # test particle semi-major axis\n",
    "q = 35. # test particle pericenter distance\n",
    "e = 1-q/a\n",
    "sim.add(m=0,a=a,e=e) \n",
    "sim.move_to_com()\n",
    "sim.integrator='whfast'\n",
    "set_time_step(sim,1/25.)"
   ]
  },
  {
   "cell_type": "code",
   "execution_count": 4,
   "id": "cc15c096",
   "metadata": {},
   "outputs": [],
   "source": [
    "sim.automateSimulationArchive(\"comet.sa\",step=int(1_000/sim.dt),deletefile=True)\n",
    "\n",
    "sim.integrate(10_000_000)"
   ]
  },
  {
   "cell_type": "code",
   "execution_count": 5,
   "id": "ffd4d068",
   "metadata": {},
   "outputs": [
    {
     "name": "stderr",
     "output_type": "stream",
     "text": [
      "/Users/shadden/anaconda/envs/celmech/lib/python3.9/site-packages/rebound/simulation.py:1987: FutureWarning: sim.calculate_energy() is deprecated and will be removed in the future. Use sim.energy() instead\n",
      "  warnings.warn( \"sim.calculate_energy() is deprecated and will be removed in the future. Use sim.energy() instead\", FutureWarning)\n"
     ]
    }
   ],
   "source": [
    "results = get_simarchive_integration_results(\"comet.sa\")"
   ]
  },
  {
   "cell_type": "code",
   "execution_count": 6,
   "id": "b8c3431b",
   "metadata": {},
   "outputs": [],
   "source": [
    "from matplotlib import pyplot as plt"
   ]
  },
  {
   "cell_type": "code",
   "execution_count": 7,
   "id": "19d581a6",
   "metadata": {},
   "outputs": [
    {
     "data": {
      "image/png": "[encoded data removed]",
      "text/plain": [
       "<Figure size 432x288 with 1 Axes>"
      ]
     },
     "metadata": {
      "needs_background": "light"
     },
     "output_type": "display_data"
    }
   ],
   "source": [
    "plt.plot(results['time']/1_000,results['a'][1])\n",
    "plt.xlabel(\"time [kyr]\",fontsize=16)\n",
    "plt.ylabel(r\"$a$ [AU]\",fontsize=16)\n",
    "plt.tick_params(direction='in',labelsize=12,size=6)"
   ]
  },
  {
   "cell_type": "markdown",
   "id": "a5dd6057",
   "metadata": {},
   "source": [
    "# variationals"
   ]
  },
  {
   "cell_type": "code",
   "execution_count": 8,
   "id": "46e90f48",
   "metadata": {},
   "outputs": [],
   "source": [
    "sa = rb.SimulationArchive('comet.sa')"
   ]
  },
  {
   "cell_type": "code",
   "execution_count": 9,
   "id": "d8a293dc",
   "metadata": {},
   "outputs": [],
   "source": [
    "sim0 = sa[0]"
   ]
  },
  {
   "cell_type": "code",
   "execution_count": 10,
   "id": "a5745000",
   "metadata": {},
   "outputs": [],
   "source": [
    "sim = sim0.copy()"
   ]
  },
  {
   "cell_type": "code",
   "execution_count": 16,
   "id": "6f1189b5",
   "metadata": {},
   "outputs": [],
   "source": [
    "vs = []\n",
    "\n",
    "v = sim.add_variation(order=1)\n",
    "v.particles[2].x = 1\n",
    "vs.append(v)\n",
    "\n",
    "v = sim.add_variation(order=1)\n",
    "v.particles[2].y = 1\n",
    "vs.append(v)\n",
    "\n",
    "v = sim.add_variation(order=1)\n",
    "v.particles[2].vx = 1\n",
    "vs.append(v)\n",
    "\n",
    "v = sim.add_variation(order=1)\n",
    "v.particles[2].vy = 1\n",
    "vs.append(v)"
   ]
  },
  {
   "cell_type": "code",
   "execution_count": 18,
   "id": "6560613f",
   "metadata": {},
   "outputs": [],
   "source": [
    "sim.integrate(100)"
   ]
  },
  {
   "cell_type": "code",
   "execution_count": 22,
   "id": "4416e4f8",
   "metadata": {},
   "outputs": [],
   "source": [
    "Dr,Dv = np.array([v.particles[2].xyz[:2] for v in vs]),np.array([v.particles[2].vxyz[:2] for v in vs])"
   ]
  },
  {
   "cell_type": "code",
   "execution_count": 24,
   "id": "ab8268f2",
   "metadata": {},
   "outputs": [
    {
     "data": {
      "text/latex": [
       "$\\displaystyle 1.0$"
      ],
      "text/plain": [
       "1.0000000000000027"
      ]
     },
     "execution_count": 24,
     "metadata": {},
     "output_type": "execute_result"
    }
   ],
   "source": [
    "np.linalg.det(np.hstack((Dr,Dv)))"
   ]
  },
  {
   "cell_type": "code",
   "execution_count": null,
   "id": "c7d928b4",
   "metadata": {},
   "outputs": [],
   "source": []
  }
 ],
 "metadata": {
  "kernelspec": {
   "display_name": "Python 3 (ipykernel)",
   "language": "python",
   "name": "python3"
  },
  "language_info": {
   "codemirror_mode": {
    "name": "ipython",
    "version": 3
   },
   "file_extension": ".py",
   "mimetype": "text/x-python",
   "name": "python",
   "nbconvert_exporter": "python",
   "pygments_lexer": "ipython3",
   "version": "3.9.7"
  }
 },
 "nbformat": 4,
 "nbformat_minor": 5
}
